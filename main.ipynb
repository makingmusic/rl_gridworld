{
 "cells": [
  {
   "cell_type": "markdown",
   "metadata": {},
   "source": [
    "imports and functions"
   ]
  },
  {
   "cell_type": "code",
   "execution_count": 1,
   "metadata": {},
   "outputs": [
    {
     "name": "stdout",
     "output_type": "stream",
     "text": [
      "hello\n",
      "init done a\n"
     ]
    }
   ],
   "source": [
    "import time\n",
    "from rich.live import Live\n",
    "from rich.table import Table\n",
    "from rich.progress import BarColumn, Progress, SpinnerColumn, TextColumn, MofNCompleteColumn, TimeElapsedColumn, TimeRemainingColumn, TaskProgressColumn\n",
    "from rich.console import Group\n",
    "from rich.panel import Panel\n",
    "from gridworld1d import GridWorld1D\n",
    "from q_agent import QLearningAgent\n",
    "print (\"hello\")\n",
    "def initDisplayTable():\n",
    "    table = Table()\n",
    "    table.add_column(\"State\")\n",
    "    table.add_column(\"Left\")\n",
    "    table.add_column(\"Right\")\n",
    "    table.add_column(\"Decision\")\n",
    "    return table\n",
    "#end def initDisplayTable\n",
    "def updateDisplayTableFromQTable(display_table, qtable):\n",
    "    for state, actions in qtable.items():\n",
    "        state_str = \"State \" + str(state)\n",
    "        left_str = \"Left \" + str(list(actions.values())[0])\n",
    "        right_str = \"Right \" + str(list(actions.values())[1])\n",
    "        \n",
    "        leftValue = float(list(actions.values())[0])\n",
    "        rightValue = float(list(actions.values())[1])\n",
    "        decision = \"stay\" if leftValue == rightValue else (\"<<Left<<\" if leftValue > rightValue else \">>Right>>\")\n",
    "        stateValueStr = str(state)\n",
    "        leftValueStr = str(round(leftValue, 4))\n",
    "        rightValueStr = str(round(rightValue, 4)) \n",
    "        display_table.columns[0]._cells[state] = stateValueStr\n",
    "        display_table.columns[1]._cells[state] = leftValueStr\n",
    "        display_table.columns[2]._cells[state] = rightValueStr\n",
    "        display_table.columns[3]._cells[state] = decision\n",
    "    # end for state, actions loop\n",
    "    return display_table\n",
    "#end def updateDisplayTableFromQTable\n",
    "\n",
    "def isTrainingComplete(qtable):\n",
    "    for state, actions in qtable.items():\n",
    "        if state == goalState:\n",
    "            continue\n",
    "        leftValue = float(list(actions.values())[0])\n",
    "        rightValue = float(list(actions.values())[1])\n",
    "        if rightValue <= leftValue:\n",
    "            return False\n",
    "    return True\n",
    "#end def isTrainingComplete\n",
    "\n",
    "def isTrainingCompleteByStepCount(stepCounterTable):\n",
    "    for row in stepCounterTable.rows:\n",
    "        if row.cells[1] == str(grid1DSize-1):\n",
    "            return True\n",
    "    return False\n",
    "#end def isTrainingCompleteByStepCount\n",
    "\n",
    "def initStepCounterTable():\n",
    "    stepCounterTable = Table()\n",
    "    stepCounterTable.add_column(\"Episode\", style=\"bold cyan\")\n",
    "    stepCounterTable.add_column(\"Steps Taken\", style=\"bold cyan\")\n",
    "    return stepCounterTable\n",
    "#end def initStepCounterTable\n",
    "\n",
    "# Function to update step counter\n",
    "def updateStepCounter(stepTable, episode, steps):\n",
    "    # Check if row exists for this episode\n",
    "    existing_row = None\n",
    "    for i, row in enumerate(stepTable.rows):\n",
    "        if stepTable.columns[0]._cells[i] == str(episode):\n",
    "            existing_row = i\n",
    "            break\n",
    "    \n",
    "    if existing_row is not None:\n",
    "        # Update existing row\n",
    "        stepTable.columns[1]._cells[existing_row] = str(steps)\n",
    "    else:\n",
    "        # Add new row if episode doesn't exist\n",
    "        stepTable.add_row(str(episode), str(steps))\n",
    "#end def updateStepCounter\n",
    "\n",
    "# Configuration Variables\n",
    "num_episodes = 1000 # number of training episodes\n",
    "grid1DSize = 30 # size of the 1D grid\n",
    "startState = 0 # starting state\n",
    "goalState = (grid1DSize - 1)   # goal state \n",
    "sleep_time = 0 # time to sleep between episodes\n",
    "\n",
    "print (\"init done a\")"
   ]
  },
  {
   "cell_type": "markdown",
   "metadata": {},
   "source": [
    "config variables"
   ]
  },
  {
   "cell_type": "code",
   "execution_count": 20,
   "metadata": {},
   "outputs": [],
   "source": []
  },
  {
   "cell_type": "code",
   "execution_count": 2,
   "metadata": {},
   "outputs": [],
   "source": [
    "# Init env. Init agent.\n",
    "step_count = 0\n",
    "env = GridWorld1D(size=grid1DSize, start_state=startState, goal_state=goalState)\n",
    "agent = QLearningAgent(actions=[\"left\", \"right\"], learning_rate=0.1, discount_factor=0.99,\n",
    "                       epsilon=1.0, epsilon_decay=0.95, epsilon_min=0.01)\n",
    "# Initialize lists to store episode and step data\n",
    "episode_data = []\n",
    "step_data = []\n",
    "epsilon_data = []"
   ]
  },
  {
   "cell_type": "code",
   "execution_count": 3,
   "metadata": {},
   "outputs": [],
   "source": [
    "# Initialize the display tables and progress bar\n",
    "table = initDisplayTable()\n",
    "stepCounterTable = initStepCounterTable()\n",
    "progress = Progress(\n",
    "    SpinnerColumn(),  # Shows a spinning animation\n",
    "    TextColumn(\"Training progress:\"),  # Task description\n",
    "    BarColumn(complete_style=\"blue\", finished_style=\"green\"),  # Progress bar\n",
    "    MofNCompleteColumn(),  # Shows \"M of N complete\"\n",
    "    TimeElapsedColumn(),  # Time elapsed\n",
    "    TimeRemainingColumn(),  # Estimated time remaining\n",
    "    TaskProgressColumn(),  # Task-specific progress\n",
    "    transient=True\n",
    ")\n",
    "task = progress.add_task(\"Training Q-learning agent\", total=num_episodes)\n",
    "\n",
    "# Add state progress bar\n",
    "stateProgressBar = Progress(\n",
    "    SpinnerColumn(),\n",
    "    TextColumn(\"Current state:\"),\n",
    "    BarColumn(complete_style=\"yellow\", finished_style=\"green\"),\n",
    "    MofNCompleteColumn(),\n",
    "    transient=True\n",
    ")\n",
    "stateTask = stateProgressBar.add_task(\"State tracking\", total=grid1DSize-1)\n",
    "\n",
    "# Initialize step counter variable\n",
    "current_steps = 0\n",
    "\n",
    "# Create initial display group\n",
    "display_group = Group(progress, stepCounterTable, stateProgressBar, table)\n"
   ]
  },
  {
   "cell_type": "code",
   "execution_count": 4,
   "metadata": {},
   "outputs": [
    {
     "data": {
      "application/vnd.jupyter.widget-view+json": {
       "model_id": "dc8345e278a74f258d70421d9eab0a3a",
       "version_major": 2,
       "version_minor": 0
      },
      "text/plain": [
       "Output()"
      ]
     },
     "metadata": {},
     "output_type": "display_data"
    },
    {
     "data": {
      "text/html": [
       "<pre style=\"white-space:pre;overflow-x:auto;line-height:normal;font-family:Menlo,'DejaVu Sans Mono',consolas,'Courier New',monospace\"></pre>\n"
      ],
      "text/plain": []
     },
     "metadata": {},
     "output_type": "display_data"
    }
   ],
   "source": [
    "with Live(display_group, refresh_per_second=50) as live:\n",
    "    for i in range(grid1DSize):\n",
    "        table.add_row(str(i), \"0.0\", \"0.0\", \"stay\")\n",
    "        live.update(table)\n",
    "    # end for i loop to init the display table\n",
    "\n",
    "    # Training loop\n",
    "    start_time = time.time()\n",
    "    for episode in range(num_episodes):\n",
    "        state = env.reset()        # reset environment to starting state\n",
    "        done = False\n",
    "        step_count = 0\n",
    "        \n",
    "        while not done:\n",
    "            action = agent.choose_action(state)             # choose action (epsilon-greedy)\n",
    "            next_state, reward, done = env.step(action)     # take action, observe reward and next state\n",
    "            agent.update_q_value(state, action, reward, next_state, done)  # update Q-table\n",
    "            state = next_state        # move to the next state\n",
    "            step_count += 1\n",
    "            \n",
    "            stateProgressBar.update(stateTask, completed=state) # Update state progress bar\n",
    "            #updateStepCounter(stepCounterTable, episode, step_count) # todo: add this back in\n",
    "            live.update(display_group)\n",
    "        # end while loop\n",
    "         \n",
    "        # Store episode and step data\n",
    "        episode_data.append(episode)\n",
    "        step_data.append(step_count)\n",
    "        epsilon_data.append(agent.epsilon)\n",
    "        \n",
    "        # Decay exploration rate at end of episode\n",
    "        agent.decay_epsilon()\n",
    "        \n",
    "        # Update Displays. (progress bar and the Q-table)\n",
    "        progress.update(task, description=f\"Episode {episode+1} of {num_episodes}\", advance=1)\n",
    "        qtable = agent.getQTable()\n",
    "        table = updateDisplayTableFromQTable(table, qtable)\n",
    "        #updateStepCounter(stepCounterTable, episode, step_count) # todo: add this back in\n",
    "        \n",
    "        # Update the display group with new plot\n",
    "        display_group = Group(progress, stepCounterTable, stateProgressBar, table)\n",
    "        live.update(display_group)\n",
    "        \n",
    "        if isTrainingComplete(qtable):\n",
    "            #print (\"Training complete at episode\", episode+1)\n",
    "            xx=1\n",
    "        # end if isTrainingComplete\n",
    "        time.sleep(sleep_time)\n",
    "    # end for episode loop\n",
    "    end_time = time.time()\n",
    "\n",
    "#end with Live loop\n"
   ]
  }
 ],
 "metadata": {
  "kernelspec": {
   "display_name": "myenv",
   "language": "python",
   "name": "python3"
  },
  "language_info": {
   "codemirror_mode": {
    "name": "ipython",
    "version": 3
   },
   "file_extension": ".py",
   "mimetype": "text/x-python",
   "name": "python",
   "nbconvert_exporter": "python",
   "pygments_lexer": "ipython3",
   "version": "3.12.5"
  }
 },
 "nbformat": 4,
 "nbformat_minor": 2
}
